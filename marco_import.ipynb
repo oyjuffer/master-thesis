{
 "cells": [
  {
   "cell_type": "markdown",
   "metadata": {},
   "source": [
    "# MARCO IMPORT\n",
    "This file will import the TFRecords files from MARCO and convert, resize and output the images."
   ]
  },
  {
   "cell_type": "code",
   "execution_count": 1,
   "metadata": {},
   "outputs": [
    {
     "name": "stdout",
     "output_type": "stream",
     "text": [
      "WARNING:tensorflow:From c:\\GitHub\\Master-Thesis\\.venv\\Lib\\site-packages\\keras\\src\\losses.py:2976: The name tf.losses.sparse_softmax_cross_entropy is deprecated. Please use tf.compat.v1.losses.sparse_softmax_cross_entropy instead.\n",
      "\n"
     ]
    }
   ],
   "source": [
    "import os\n",
    "import random\n",
    "import shutil\n",
    "import tensorflow as tf\n",
    "from PIL import Image"
   ]
  },
  {
   "cell_type": "markdown",
   "metadata": {},
   "source": [
    "### Import TFRecords\n",
    "download the TFRecords file from the MARCO website and place them in a root folder named MARCO_TFRecords folder."
   ]
  },
  {
   "cell_type": "code",
   "execution_count": 2,
   "metadata": {},
   "outputs": [
    {
     "name": "stdout",
     "output_type": "stream",
     "text": [
      "currently importing: train-00006-of-00407\n",
      "currently importing: train-00028-of-00407\n",
      "currently importing: train-00045-of-00407\n",
      "currently importing: train-00077-of-00407\n",
      "currently importing: train-00078-of-00407\n",
      "currently importing: train-00137-of-00407\n",
      "currently importing: train-00146-of-00407\n",
      "currently importing: train-00163-of-00407\n",
      "currently importing: train-00193-of-00407\n",
      "currently importing: train-00219-of-00407\n",
      "currently importing: train-00220-of-00407\n",
      "currently importing: train-00229-of-00407\n",
      "currently importing: train-00267-of-00407\n",
      "currently importing: train-00284-of-00407\n",
      "currently importing: train-00294-of-00407\n",
      "currently importing: train-00305-of-00407\n",
      "currently importing: train-00306-of-00407\n",
      "currently importing: train-00344-of-00407\n",
      "currently importing: train-00390-of-00407\n",
      "currently importing: train-00403-of-00407\n",
      "task finished\n"
     ]
    }
   ],
   "source": [
    "# feature description for TFRecord data\n",
    "feature_description = {\n",
    "    'image/height': tf.io.FixedLenFeature([], tf.int64),  # Image height in pixels\n",
    "    'image/width': tf.io.FixedLenFeature([], tf.int64),  # Image width in pixels\n",
    "    'image/colorspace': tf.io.FixedLenFeature([], tf.string),  # Colorspace, always 'RGB'\n",
    "    'image/channels': tf.io.FixedLenFeature([], tf.int64),  # Number of channels, always 3\n",
    "    'image/class/label': tf.io.FixedLenFeature([], tf.int64),  # Index in a normalized classification layer\n",
    "    'image/class/raw': tf.io.FixedLenFeature([], tf.int64),  # Index in the raw (original) classification layer\n",
    "    'image/class/source': tf.io.FixedLenFeature([], tf.int64),  # Index of the image source creator\n",
    "    'image/class/text': tf.io.FixedLenFeature([], tf.string),  # Human-readable version of the normalized label\n",
    "    'image/format': tf.io.FixedLenFeature([], tf.string),  # Image format, always 'JPEG'\n",
    "    'image/filename': tf.io.FixedLenFeature([], tf.string),  # Basename of the image file\n",
    "    'image/id': tf.io.FixedLenFeature([], tf.int64),  # Unique id for the image\n",
    "    'image/encoded': tf.io.FixedLenFeature([], tf.string),  # JPEG encoded image in RGB colorspace\n",
    "}\n",
    "\n",
    "def save_images_by_label(example, output_directory):\n",
    "    \"\"\"\n",
    "    saves the TFRecord contents as a jpg, in folders for each class:\n",
    "    0 - clear\n",
    "    1 - crystals\n",
    "    2 - other\n",
    "    3 - precipitate\n",
    "    \"\"\"\n",
    "    example = tf.io.parse_single_example(example, feature_description)\n",
    "    image = tf.image.decode_jpeg(example['image/encoded'], channels=3)  # Decode JPEG image\n",
    "    label = example['image/class/label'].numpy()  # Get label value as numpy int\n",
    "\n",
    "    # Create a folder for each label if it doesn't exist\n",
    "    label_dir = os.path.join(output_directory, str(label))\n",
    "    if not os.path.exists(label_dir):\n",
    "        os.makedirs(label_dir)\n",
    "\n",
    "    # Save the image to the respective label folder\n",
    "    image_filename = example['image/filename'].numpy().decode('utf-8')  # Get filename as string\n",
    "    image_path = os.path.join(label_dir, image_filename)\n",
    "    tf.io.write_file(image_path, tf.image.encode_jpeg(image))\n",
    "\n",
    "\n",
    "tfrecord_directory = 'MARCO_TFRecords'\n",
    "tfrecord_files = os.listdir(tfrecord_directory)\n",
    "\n",
    "for file_name in tfrecord_files:\n",
    "\n",
    "    # Read TFRecord file\n",
    "    tfrecord_file = os.path.join(tfrecord_directory, file_name)\n",
    "    output_directory = 'MARCO_IMAGES'\n",
    "    dataset = tf.data.TFRecordDataset(tfrecord_file)\n",
    "    print(\"currently importing:\", file_name)\n",
    "\n",
    "    # Process and save images by label\n",
    "    for record in dataset:\n",
    "        save_images_by_label(record, output_directory)\n",
    "\n",
    "print(\"task finished\")"
   ]
  },
  {
   "cell_type": "markdown",
   "metadata": {},
   "source": [
    "### Resize \n",
    "Resize the images to 608x608 and organize them into folders."
   ]
  },
  {
   "cell_type": "code",
   "execution_count": 3,
   "metadata": {},
   "outputs": [
    {
     "name": "stdout",
     "output_type": "stream",
     "text": [
      "currently adapting: 0\n",
      "currently adapting: 1\n",
      "currently adapting: 2\n",
      "currently adapting: 3\n",
      "task finished\n"
     ]
    }
   ],
   "source": [
    "def resize_images_in_folders(root_folder):\n",
    "    # Define the output root directory for resized images\n",
    "    output_root = os.path.join(\"MARCO_IMAGES_resized\")\n",
    "    os.makedirs(output_root, exist_ok=True)\n",
    "\n",
    "    # Iterate through the numbered folders\n",
    "    for folder_name in os.listdir(root_folder):\n",
    "        folder_path = os.path.join(root_folder, folder_name)\n",
    "\n",
    "        print(\"currently adapting:\", folder_name)\n",
    "        \n",
    "        # Check if the item in the root folder is a directory\n",
    "        if os.path.isdir(folder_path):\n",
    "            output_folder = os.path.join(output_root, folder_name)\n",
    "            os.makedirs(output_folder, exist_ok=True)\n",
    "\n",
    "            # Loop through images in subfolders and resize them\n",
    "            for subdir, _, files in os.walk(folder_path):\n",
    "                for filename in files:\n",
    "                    filepath = os.path.join(subdir, filename)\n",
    "                    \n",
    "                    # Check if the file is an image\n",
    "                    if filename.lower().endswith(('.png', '.jpg', '.jpeg', '.gif')):\n",
    "                        with Image.open(filepath) as img:\n",
    "                            # Resize the image to 608x608\n",
    "                            img_resized = img.resize((608, 608))\n",
    "                            \n",
    "                            # Save the resized image in the corresponding output folder\n",
    "                            output_filename = os.path.join(output_folder, filename)\n",
    "                            img_resized.save(output_filename, \"JPEG\")\n",
    "\n",
    "# Provide the root folder containing subfolders (0, 1, 2, 3) with images\n",
    "root_folder_path = \"MARCO_IMAGES\"\n",
    "resize_images_in_folders(root_folder_path)\n",
    "\n",
    "print(\"task finished\")"
   ]
  },
  {
   "cell_type": "markdown",
   "metadata": {},
   "source": [
    "### Randomly select 1000 images from each class"
   ]
  },
  {
   "cell_type": "code",
   "execution_count": 4,
   "metadata": {},
   "outputs": [
    {
     "name": "stdout",
     "output_type": "stream",
     "text": [
      "currently adapting: 0\n",
      "currently adapting: 1\n",
      "currently adapting: 2\n",
      "currently adapting: 3\n",
      "task finished\n"
     ]
    }
   ],
   "source": [
    "source_directory = 'MARCO_IMAGES_resized'\n",
    "destination_directory = 'CVAT_IMAGES'\n",
    "\n",
    "if not os.path.exists(destination_directory):\n",
    "    os.makedirs(destination_directory)\n",
    "\n",
    "def select_and_copy_images(source_folder, destination_folder, num_images=1000):\n",
    "\n",
    "    # create folder\n",
    "    if not os.path.exists(destination_folder):\n",
    "        os.makedirs(destination_folder)\n",
    "\n",
    "    for subdir in os.listdir(source_folder):\n",
    "        print(\"currently sampling:\", subdir)\n",
    "        subdir_path = os.path.join(source_folder, subdir)\n",
    "        \n",
    "        if os.path.isdir(subdir_path):\n",
    "            destination_subdir = os.path.join(destination_folder, subdir)\n",
    "            if not os.path.exists(destination_subdir):\n",
    "                os.makedirs(destination_subdir)\n",
    "            \n",
    "            # List all files in the subfolder\n",
    "            files = os.listdir(subdir_path)\n",
    "            images = [file for file in files if file.endswith(('jpeg', 'png', 'jpg', 'gif'))]  # Add other image extensions if needed\n",
    "            \n",
    "            # Check if there are enough images to select\n",
    "            if len(images) >= num_images:\n",
    "                # Ensure uniqueness by shuffling and slicing the list\n",
    "                random.shuffle(images)\n",
    "                selected_images = images[:num_images]\n",
    "                \n",
    "                # Copy selected images to the destination subfolder\n",
    "                for image in selected_images:\n",
    "                    source_path = os.path.join(subdir_path, image)\n",
    "                    destination_path = os.path.join(destination_subdir, image)\n",
    "                    shutil.copyfile(source_path, destination_path)\n",
    "            else:\n",
    "                print(f\"Not enough images in '{subdir}' directory.\")\n",
    "\n",
    "\n",
    "select_and_copy_images(source_directory, destination_directory)\n",
    "print(\"task finished\")"
   ]
  }
 ],
 "metadata": {
  "kernelspec": {
   "display_name": ".venv",
   "language": "python",
   "name": "python3"
  },
  "language_info": {
   "codemirror_mode": {
    "name": "ipython",
    "version": 3
   },
   "file_extension": ".py",
   "mimetype": "text/x-python",
   "name": "python",
   "nbconvert_exporter": "python",
   "pygments_lexer": "ipython3",
   "version": "3.11.7"
  }
 },
 "nbformat": 4,
 "nbformat_minor": 2
}
